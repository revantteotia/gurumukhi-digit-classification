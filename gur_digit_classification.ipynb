{
 "cells": [
  {
   "cell_type": "code",
   "execution_count": 1,
   "metadata": {},
   "outputs": [],
   "source": [
    "import numpy as np\n",
    "import tensorflow as tf \n",
    "import matplotlib.pyplot as plt\n",
    "\n",
    "from tensorflow.keras.preprocessing.image import ImageDataGenerator\n",
    "from tensorflow.keras import datasets, layers, models\n"
   ]
  },
  {
   "cell_type": "code",
   "execution_count": 14,
   "metadata": {
    "tags": []
   },
   "outputs": [
    {
     "output_type": "stream",
     "name": "stdout",
     "text": "Found 1000 images belonging to 10 classes.\nFound 178 images belonging to 10 classes.\n"
    }
   ],
   "source": [
    "# using ImageDataGenerator to load data from the disk\n",
    "# TODO : try if inverting white and black in dataset images has any effect on the performance of the model\n",
    "\n",
    "train_data_path = 'gurumukhi_digits_dataset/train'\n",
    "val_data_path = 'gurumukhi_digits_dataset/val'\n",
    "\n",
    "IMAGE_SIZE = 32\n",
    "IMAGE_SHAPE = (IMAGE_SIZE, IMAGE_SIZE, 1) # 3 channels\n",
    "\n",
    "train_image_generator = ImageDataGenerator( rescale=1./255 )\n",
    "val_image_generator = ImageDataGenerator( rescale=1./255 )\n",
    "\n",
    "train_data_gen = train_image_generator.flow_from_directory(\n",
    "    train_data_path, \n",
    "    target_size=(IMAGE_SIZE, IMAGE_SIZE), \n",
    "    color_mode='grayscale', # for 1 channel images\n",
    "    class_mode='sparse', # labels will be integers\n",
    "    batch_size=32, \n",
    "    shuffle=True, \n",
    "    seed=None,\n",
    "    )\n",
    "\n",
    "val_data_gen = val_image_generator.flow_from_directory(\n",
    "    val_data_path, \n",
    "    target_size=(IMAGE_SIZE, IMAGE_SIZE), \n",
    "    color_mode='grayscale', # for 1 channel images\n",
    "    class_mode='sparse', # labels will be integers\n",
    "    batch_size=32, \n",
    "    shuffle=True, \n",
    "    seed=None,\n",
    "    )\n"
   ]
  },
  {
   "cell_type": "code",
   "execution_count": 20,
   "metadata": {
    "tags": []
   },
   "outputs": [
    {
     "output_type": "stream",
     "name": "stdout",
     "text": "shape of a batch given by image data generator : (32, 32, 32)\n"
    },
    {
     "output_type": "display_data",
     "data": {
      "text/plain": "<Figure size 432x288 with 4 Axes>",
      "image/svg+xml": "<?xml version=\"1.0\" encoding=\"utf-8\" standalone=\"no\"?>\n<!DOCTYPE svg PUBLIC \"-//W3C//DTD SVG 1.1//EN\"\n  \"http://www.w3.org/Graphics/SVG/1.1/DTD/svg11.dtd\">\n<!-- Created with matplotlib (https://matplotlib.org/) -->\n<svg height=\"246.958125pt\" version=\"1.1\" viewBox=\"0 0 295.854545 246.958125\" width=\"295.854545pt\" xmlns=\"http://www.w3.org/2000/svg\" xmlns:xlink=\"http://www.w3.org/1999/xlink\">\n <defs>\n  <style type=\"text/css\">\n*{stroke-linecap:butt;stroke-linejoin:round;}\n  </style>\n </defs>\n <g id=\"figure_1\">\n  <g id=\"patch_1\">\n   <path d=\"M 0 246.958125 \nL 295.854545 246.958125 \nL 295.854545 0 \nL 0 0 \nz\n\" style=\"fill:none;\"/>\n  </g>\n  <g id=\"axes_1\">\n   <g clip-path=\"url(#pfe5f421e5a)\">\n    <image height=\"99\" id=\"image724e0831ce\" transform=\"scale(1 -1)translate(0 -99)\" width=\"99\" x=\"7.2\" xlink:href=\"data:image/png;base64,\niVBORw0KGgoAAAANSUhEUgAAAGMAAABjCAYAAACPO76VAAAABHNCSVQICAgIfAhkiAAAAg1JREFUeJzt3NtSwyAYReHg9P1fOV5KO8WBcFrA+u7UsUm759/mhOG+7/v6IoTw7duPJDahDz+zd0B/DAPkFX/RsppyXtf6eudkgBgGSLiuC9cVp9aXkwFiGCDFNfWkQmqO0k6qLCcDxDBAqo6maiuktL52rywnA8QwQKbW1NuOWFlOBolhgBgGSIhvu9bez6jpcc/SnQwUwwAJvZ4OGVlZ1pSaMwyQV+oH8eg/qaz4d3apkd6cDBDDAEnWVCxVM7n1lVNZvR6gW4mTAWIYIFk1lfJZOTlVYx2lORkghgGSvDZV/cIT62jVk0wnA8QwQLrVVNbGrbI3TgaIYYBMrakY5WRw5sfhZIAYBkjVtSmKJ9fIUmauWXcyQAwDZKmTvplLEFJa7pOTAWIYIIYBMvzQdqUz7Za3kXO252SAGAbIkEPb3VYl9Vou4WSAGAZIt6Op3aop9t/+1bxvJwPEMECa1tSpCyNLpZZIOBkghgFSfNI3c334ako/KycDxDBAhlxCP6maajgZIIYBklVTT46grKZyTgaIYYAka8pqGs/JADEMkC2WBJB4p28ThgFiTVVqeUvByQAxDBBragIf71yAYYAYBoh/Myrl/kMAVy4txjBAuj1re+q9jZr37WSAGAZI1rO2I9Zun1prMScDxDBAhi8JyHFqZTkZIIYBUnzS12sN9KnVFHMyQAwD5BdRR72hSxB6FgAAAABJRU5ErkJggg==\" y=\"-22.154489\"/>\n   </g>\n   <g id=\"text_1\">\n    <!-- 4.0 -->\n    <defs>\n     <path d=\"M 37.796875 64.3125 \nL 12.890625 25.390625 \nL 37.796875 25.390625 \nz\nM 35.203125 72.90625 \nL 47.609375 72.90625 \nL 47.609375 25.390625 \nL 58.015625 25.390625 \nL 58.015625 17.1875 \nL 47.609375 17.1875 \nL 47.609375 0 \nL 37.796875 0 \nL 37.796875 17.1875 \nL 4.890625 17.1875 \nL 4.890625 26.703125 \nz\n\" id=\"DejaVuSans-52\"/>\n     <path d=\"M 10.6875 12.40625 \nL 21 12.40625 \nL 21 0 \nL 10.6875 0 \nz\n\" id=\"DejaVuSans-46\"/>\n     <path d=\"M 31.78125 66.40625 \nQ 24.171875 66.40625 20.328125 58.90625 \nQ 16.5 51.421875 16.5 36.375 \nQ 16.5 21.390625 20.328125 13.890625 \nQ 24.171875 6.390625 31.78125 6.390625 \nQ 39.453125 6.390625 43.28125 13.890625 \nQ 47.125 21.390625 47.125 36.375 \nQ 47.125 51.421875 43.28125 58.90625 \nQ 39.453125 66.40625 31.78125 66.40625 \nz\nM 31.78125 74.21875 \nQ 44.046875 74.21875 50.515625 64.515625 \nQ 56.984375 54.828125 56.984375 36.375 \nQ 56.984375 17.96875 50.515625 8.265625 \nQ 44.046875 -1.421875 31.78125 -1.421875 \nQ 19.53125 -1.421875 13.0625 8.265625 \nQ 6.59375 17.96875 6.59375 36.375 \nQ 6.59375 54.828125 13.0625 64.515625 \nQ 19.53125 74.21875 31.78125 74.21875 \nz\n\" id=\"DejaVuSans-48\"/>\n    </defs>\n    <g transform=\"translate(47.076307 16.318125)scale(0.12 -0.12)\">\n     <use xlink:href=\"#DejaVuSans-52\"/>\n     <use x=\"63.623047\" xlink:href=\"#DejaVuSans-46\"/>\n     <use x=\"95.410156\" xlink:href=\"#DejaVuSans-48\"/>\n    </g>\n   </g>\n  </g>\n  <g id=\"axes_2\">\n   <g clip-path=\"url(#ped98ffa350)\">\n    <image height=\"99\" id=\"imageea3959f680\" transform=\"scale(1 -1)translate(0 -99)\" width=\"99\" x=\"189.818182\" xlink:href=\"data:image/png;base64,\niVBORw0KGgoAAAANSUhEUgAAAGMAAABjCAYAAACPO76VAAAABHNCSVQICAgIfAhkiAAAAfxJREFUeJztncFyhCAQBWNq//+XzVXXYKnDQIPd9w1K17yMiris67r+DMKyLOlj9JyO324jywFlgPj0PoD/aBFHkbGzoszKAKEMEE1iqmfsZHB2PpEIszJAKANE1ZhqGUdZHU30HEq/v3K8VgYIZYBYIvemsmKJfrsset6l87MyQCgDxO1uqmY00eOoxPa4a86HlQFCGSCUAeJSa5vVys3I3bnazo2VAUIZIIqtrdH0jEjba2WAUAaIXUwZTe3ZzrmVAUIZIEKPXY2lc+52VlYGCGWA+My2wGxkrAwQygBxu5uyg8rDygChDBDKAKEMEMoAoQwQygChDBDKAKEMEMoAoQwQygChDBDKALF7JSCynF2OuNZ2YJQBIrSI7bsMja0YVgYIZYBAbhg5Mr5gOQnKALGLqeieGNvf2Fndx8oAoQwQxW4qaxuf2XgyN+7ENgDKAJF20TdzZ5UV21YGCGWAuBRTXgzGcfvtwVAGiNALlm+KrBYXvlYGCGWACH0l4PDHKpVy9JAiHxTpub24lQFCGSCqxlRxkIT4ot7W99Nwk6AMEE1iajcgNF6eUnP6rAwQygChDBDN19qWMnak/yV+nP0FKAOErwSc0Pp5i5UBQhkgusYUsYPq+SjYygChDBCv7aaIK1OsDBDKANE1plo8RiXGUQkrA4QyQPwB8nOd0Xvvsy0AAAAASUVORK5CYII=\" y=\"-22.154489\"/>\n   </g>\n   <g id=\"text_2\">\n    <!-- 0.0 -->\n    <g transform=\"translate(229.694489 16.318125)scale(0.12 -0.12)\">\n     <use xlink:href=\"#DejaVuSans-48\"/>\n     <use x=\"63.623047\" xlink:href=\"#DejaVuSans-46\"/>\n     <use x=\"95.410156\" xlink:href=\"#DejaVuSans-48\"/>\n    </g>\n   </g>\n  </g>\n  <g id=\"axes_3\">\n   <g clip-path=\"url(#p533e986193)\">\n    <image height=\"99\" id=\"imageadbd3c6338\" transform=\"scale(1 -1)translate(0 -99)\" width=\"99\" x=\"7.2\" xlink:href=\"data:image/png;base64,\niVBORw0KGgoAAAANSUhEUgAAAGMAAABjCAYAAACPO76VAAAABHNCSVQICAgIfAhkiAAAAedJREFUeJzt3dtuwyAURFGo+v+/7L7iVFS4HGAb9npvE2U0J+Bb8nVdV9K/5Zy7/r78+L9634ziGAbI9+o38Ba946jl/9oMEMMAcUz9YdRoqi1gbQaIYYA4pj5Ejqan+2mbAWIYII6ptHY0lWwGiGGAGAaIYYAYBohhgBy7tI1azkaetbYZIIYBctSYGnV+IorNADEMkKPGVJRR1/3ZDBDDAHFMNZpxSbLNADEMkO3HFH2jV7IZIIYBsv2Y6jH7pi6bAWIYIFuOqTetoEo2A8QwQAwDxDBADAPEMEAMA8QwQPLuT9UhXsZZYzNADAPEMEC2PFA4Qvnd40VsBzAMkO3HVDlS6Oc5bAaIYYBsvwOvIe7MbQaIYYAcO6ZKPuJIvxgGyONNX2ulnX7P2QwQwwCprqZmH8ehjDWfa6uUkmGg3FZTKw8xt7z2jFG28pC7zQAxDJCcUmIsYzqMGl+zV1Y2A8QwQG6bvshfY2x68QmrlagRNuOzsRkghgGy9LqpWnXp1zeNYjNADAMkdExFXalNOZw+m80AMQwQwwC5fWdEHsufcafPbmwGiGGAVJe2p46slbt/mwFiGCBdtwS86XxESvz3azNADANk2J1Lu52T8BFHhzEMkGGnXVtqTRlllI2ozQAxDJAfS06KyP6N7jgAAAAASUVORK5CYII=\" y=\"-140.758125\"/>\n   </g>\n   <g id=\"text_3\">\n    <!-- 1.0 -->\n    <defs>\n     <path d=\"M 12.40625 8.296875 \nL 28.515625 8.296875 \nL 28.515625 63.921875 \nL 10.984375 60.40625 \nL 10.984375 69.390625 \nL 28.421875 72.90625 \nL 38.28125 72.90625 \nL 38.28125 8.296875 \nL 54.390625 8.296875 \nL 54.390625 0 \nL 12.40625 0 \nz\n\" id=\"DejaVuSans-49\"/>\n    </defs>\n    <g transform=\"translate(47.076307 134.921761)scale(0.12 -0.12)\">\n     <use xlink:href=\"#DejaVuSans-49\"/>\n     <use x=\"63.623047\" xlink:href=\"#DejaVuSans-46\"/>\n     <use x=\"95.410156\" xlink:href=\"#DejaVuSans-48\"/>\n    </g>\n   </g>\n  </g>\n  <g id=\"axes_4\">\n   <g clip-path=\"url(#p9c87e16b60)\">\n    <image height=\"99\" id=\"image93ca883968\" transform=\"scale(1 -1)translate(0 -99)\" width=\"99\" x=\"189.818182\" xlink:href=\"data:image/png;base64,\niVBORw0KGgoAAAANSUhEUgAAAGMAAABjCAYAAACPO76VAAAABHNCSVQICAgIfAhkiAAAAeVJREFUeJzt3dtOwzAURNG44v9/OX11hCwd3+Jtd69Xru1ohhAMpPu+76tRSqn1TbE6no5un2UfWf8YBshf6QUnTlBE/rjfniybAWIYII+ZemOaVl6t1D6+0uvPegw2A8QwQNJ1XVWdWzkzb4vM2sjnw2aAGAZIaKZ+aZpWshkghgFiGCCGAWIYIIYB4nfgIDYDxDBAUn46pPZ+v5M1ls0AMQyQVDrE1vsjWCesns0AMQyQ4kw9XunwUyMUNgPEMEBCMxV+ZxudzyXOos0AMQyQ4q8EtMirv9NkUdgMEMMAGTpTlGkiXilF2AwQwwDpmilvs49lM0AMA6R6plqmyTmKsRkghgEy9Ju+nNNUz2aAGAaIYYAYBohhgBgGyLRL25V/0WxXNgPEMEC6DrF503AsmwFiGCCYs7bOl81AMQyQoTP1eMeQA22jvDGjNgPEMECW/tj1tCnrZTNADANk2kxFOGVPNgPEMECWzlREacpGzhflvpjNADEMEPxM5U7/TSmbAWIYIFvNVAv6NOVsBohhgOBn6pfOZtkMEMMAMQwQwwAxDBDDAJl2iG2GnS9zI5+7zQAxDJCtZip3yqmR/Om3GSCGAYK/UViy85/6Ln1lsBkghgGy7UzloheE9P8dZTNADAPkCxZXkaDfP0bQAAAAAElFTkSuQmCC\" y=\"-140.758125\"/>\n   </g>\n   <g id=\"text_4\">\n    <!-- 6.0 -->\n    <defs>\n     <path d=\"M 33.015625 40.375 \nQ 26.375 40.375 22.484375 35.828125 \nQ 18.609375 31.296875 18.609375 23.390625 \nQ 18.609375 15.53125 22.484375 10.953125 \nQ 26.375 6.390625 33.015625 6.390625 \nQ 39.65625 6.390625 43.53125 10.953125 \nQ 47.40625 15.53125 47.40625 23.390625 \nQ 47.40625 31.296875 43.53125 35.828125 \nQ 39.65625 40.375 33.015625 40.375 \nz\nM 52.59375 71.296875 \nL 52.59375 62.3125 \nQ 48.875 64.0625 45.09375 64.984375 \nQ 41.3125 65.921875 37.59375 65.921875 \nQ 27.828125 65.921875 22.671875 59.328125 \nQ 17.53125 52.734375 16.796875 39.40625 \nQ 19.671875 43.65625 24.015625 45.921875 \nQ 28.375 48.1875 33.59375 48.1875 \nQ 44.578125 48.1875 50.953125 41.515625 \nQ 57.328125 34.859375 57.328125 23.390625 \nQ 57.328125 12.15625 50.6875 5.359375 \nQ 44.046875 -1.421875 33.015625 -1.421875 \nQ 20.359375 -1.421875 13.671875 8.265625 \nQ 6.984375 17.96875 6.984375 36.375 \nQ 6.984375 53.65625 15.1875 63.9375 \nQ 23.390625 74.21875 37.203125 74.21875 \nQ 40.921875 74.21875 44.703125 73.484375 \nQ 48.484375 72.75 52.59375 71.296875 \nz\n\" id=\"DejaVuSans-54\"/>\n    </defs>\n    <g transform=\"translate(229.694489 134.921761)scale(0.12 -0.12)\">\n     <use xlink:href=\"#DejaVuSans-54\"/>\n     <use x=\"63.623047\" xlink:href=\"#DejaVuSans-46\"/>\n     <use x=\"95.410156\" xlink:href=\"#DejaVuSans-48\"/>\n    </g>\n   </g>\n  </g>\n </g>\n <defs>\n  <clipPath id=\"pfe5f421e5a\">\n   <rect height=\"98.836364\" width=\"98.836364\" x=\"7.2\" y=\"22.318125\"/>\n  </clipPath>\n  <clipPath id=\"ped98ffa350\">\n   <rect height=\"98.836364\" width=\"98.836364\" x=\"189.818182\" y=\"22.318125\"/>\n  </clipPath>\n  <clipPath id=\"p533e986193\">\n   <rect height=\"98.836364\" width=\"98.836364\" x=\"7.2\" y=\"140.921761\"/>\n  </clipPath>\n  <clipPath id=\"p9c87e16b60\">\n   <rect height=\"98.836364\" width=\"98.836364\" x=\"189.818182\" y=\"140.921761\"/>\n  </clipPath>\n </defs>\n</svg>\n",
      "image/png": "[encoded data removed]"
     },
     "metadata": {
      "needs_background": "light"
     }
    }
   ],
   "source": [
    "# checking/ validating some images generated by datagenerator\n",
    "\n",
    "# This function will plot 4 images along with their labels.\n",
    "def plotImages(image_datas,y_list):\n",
    "    f, axarr = plt.subplots(2,2)\n",
    "    axarr[0,0].imshow(image_datas[0], cmap='gray')\n",
    "    axarr[0,0].set_title(y_list[0])\n",
    "    axarr[0,0].axis('off')\n",
    "    axarr[0,1].imshow(image_datas[1], cmap='gray')\n",
    "    axarr[0,1].set_title(y_list[1])\n",
    "    axarr[0,1].axis('off')\n",
    "    axarr[1,0].imshow(image_datas[2], cmap='gray')\n",
    "    axarr[1,0].set_title(y_list[2])\n",
    "    axarr[1,0].axis('off')\n",
    "    axarr[1,1].imshow(image_datas[3], cmap='gray')\n",
    "    axarr[1,1].set_title(y_list[3])\n",
    "    axarr[1,1].axis('off')\n",
    "\n",
    "sample_training_images, y_list = next(train_data_gen)\n",
    "sample_training_images = np.squeeze(sample_training_images) # to reduce dimension\n",
    "print(\"shape of a batch given by image data generator : {}\".format(sample_training_images.shape))\n",
    "\n",
    "plotImages(sample_training_images[:4],y_list[:4])"
   ]
  },
  {
   "cell_type": "code",
   "execution_count": null,
   "metadata": {},
   "outputs": [],
   "source": []
  }
 ],
 "metadata": {
  "language_info": {
   "codemirror_mode": {
    "name": "ipython",
    "version": 3
   },
   "file_extension": ".py",
   "mimetype": "text/x-python",
   "name": "python",
   "nbconvert_exporter": "python",
   "pygments_lexer": "ipython3",
   "version": "3.6.9-final"
  },
  "orig_nbformat": 2,
  "kernelspec": {
   "name": "python36964bitb700739b275943fe8cf709be88cb7e63",
   "display_name": "Python 3.6.9 64-bit"
  }
 },
 "nbformat": 4,
 "nbformat_minor": 2
}